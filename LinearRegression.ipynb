{
  "nbformat": 4,
  "nbformat_minor": 0,
  "metadata": {
    "colab": {
      "provenance": [],
      "authorship_tag": "ABX9TyO9zuH5JMRfRWkma6a2D0Rf",
      "include_colab_link": true
    },
    "kernelspec": {
      "name": "python3",
      "display_name": "Python 3"
    },
    "language_info": {
      "name": "python"
    }
  },
  "cells": [
    {
      "cell_type": "markdown",
      "metadata": {
        "id": "view-in-github",
        "colab_type": "text"
      },
      "source": [
        "<a href=\"https://colab.research.google.com/github/southeastwind13/deep_learning/blob/main/LinearRegression.ipynb\" target=\"_parent\"><img src=\"https://colab.research.google.com/assets/colab-badge.svg\" alt=\"Open In Colab\"/></a>"
      ]
    },
    {
      "cell_type": "code",
      "source": [
        "import torch\n",
        "import torch.nn as nn\n",
        "import numpy as np\n",
        "import matplotlib.pyplot as plt"
      ],
      "metadata": {
        "id": "_YoFFS2Xkkkt"
      },
      "execution_count": 8,
      "outputs": []
    },
    {
      "cell_type": "code",
      "source": [
        "# Generatate mock linear data for learning\n",
        "N = 30\n",
        "\n",
        "# Generate random data between -5 and 5\n",
        "X = np.random.random(N) * 10 - 5\n",
        "\n",
        "# Generate line with some guasian noise\n",
        "Y = 0.5*X - 1 + np.random.randn(N)"
      ],
      "metadata": {
        "id": "0m33uRZDkpnR"
      },
      "execution_count": 3,
      "outputs": []
    },
    {
      "cell_type": "code",
      "source": [
        "# Plot mock data\n",
        "plt.scatter(X, Y)"
      ],
      "metadata": {
        "colab": {
          "base_uri": "https://localhost:8080/",
          "height": 450
        },
        "id": "kWtOwDl_lSEv",
        "outputId": "7e852850-fa33-45ee-d210-a9b1c6bb7c11"
      },
      "execution_count": 4,
      "outputs": [
        {
          "output_type": "execute_result",
          "data": {
            "text/plain": [
              "<matplotlib.collections.PathCollection at 0x791505d10460>"
            ]
          },
          "metadata": {},
          "execution_count": 4
        },
        {
          "output_type": "display_data",
          "data": {
            "text/plain": [
              "<Figure size 640x480 with 1 Axes>"
            ],
            "image/png": "[encoded data removed]"
          },
          "metadata": {}
        }
      ]
    },
    {
      "cell_type": "code",
      "source": [
        "# Prepare data to the correct format\n",
        "# 1. Data should be dimension (N, 1)\n",
        "X = X.reshape(N, 1)\n",
        "Y = Y.reshape(N, 1)\n",
        "\n",
        "# 2. Data should in be Tensor with type float32\n",
        "# Numpy has defalut type with float64 so we need to fix it.\n",
        "inputs = torch.from_numpy(X.astype(np.float32))\n",
        "targets = torch.from_numpy(Y.astype(np.float32))"
      ],
      "metadata": {
        "id": "j72Un9xRldd1"
      },
      "execution_count": 6,
      "outputs": []
    },
    {
      "cell_type": "code",
      "source": [
        "# Prepare model\n",
        "model = nn.Linear(1, 1)"
      ],
      "metadata": {
        "id": "176IcycEmKiV"
      },
      "execution_count": 9,
      "outputs": []
    },
    {
      "cell_type": "code",
      "source": [
        "# Prepare criterion and optimizer\n",
        "criterion = nn.MSELoss()\n",
        "optimizer = torch.optim.SGD(model.parameters(), lr=0.1)"
      ],
      "metadata": {
        "id": "xiieH51rmWa2"
      },
      "execution_count": 10,
      "outputs": []
    },
    {
      "cell_type": "code",
      "source": [
        "# Train data\n",
        "n_epochs = 30\n",
        "losses = []\n",
        "\n",
        "for iteration in range(n_epochs):\n",
        "  # Delete accumulate gradient descent\n",
        "  optimizer.zero_grad()\n",
        "\n",
        "  # Forward pass\n",
        "  outputs = model(inputs)\n",
        "  loss = criterion(outputs, targets)\n",
        "\n",
        "  losses.append(loss.item()) # Correct loss for plot it later.\n",
        "\n",
        "  # Backward pass\n",
        "  loss.backward()\n",
        "  optimizer.step()\n",
        "\n",
        "  print(f'Iteration {iteration}/{n_epochs}, Loss: {loss}')"
      ],
      "metadata": {
        "colab": {
          "base_uri": "https://localhost:8080/"
        },
        "id": "EtCeOy5Amo6j",
        "outputId": "ad98cae8-8e03-47aa-c7e9-b07600693e8e"
      },
      "execution_count": 12,
      "outputs": [
        {
          "output_type": "stream",
          "name": "stdout",
          "text": [
            "Iteration 0/30, Loss: 14.256200790405273\n",
            "Iteration 1/30, Loss: 6.659214496612549\n",
            "Iteration 2/30, Loss: 3.5563666820526123\n",
            "Iteration 3/30, Loss: 2.2483861446380615\n",
            "Iteration 4/30, Loss: 1.6723767518997192\n",
            "Iteration 5/30, Loss: 1.4042505025863647\n",
            "Iteration 6/30, Loss: 1.271316409111023\n",
            "Iteration 7/30, Loss: 1.2010910511016846\n",
            "Iteration 8/30, Loss: 1.1618380546569824\n",
            "Iteration 9/30, Loss: 1.1388884782791138\n",
            "Iteration 10/30, Loss: 1.1250240802764893\n",
            "Iteration 11/30, Loss: 1.1164591312408447\n",
            "Iteration 12/30, Loss: 1.1110907793045044\n",
            "Iteration 13/30, Loss: 1.1076948642730713\n",
            "Iteration 14/30, Loss: 1.1055344343185425\n",
            "Iteration 15/30, Loss: 1.1041553020477295\n",
            "Iteration 16/30, Loss: 1.1032731533050537\n",
            "Iteration 17/30, Loss: 1.1027079820632935\n",
            "Iteration 18/30, Loss: 1.1023457050323486\n",
            "Iteration 19/30, Loss: 1.1021133661270142\n",
            "Iteration 20/30, Loss: 1.1019643545150757\n",
            "Iteration 21/30, Loss: 1.1018685102462769\n",
            "Iteration 22/30, Loss: 1.1018073558807373\n",
            "Iteration 23/30, Loss: 1.1017680168151855\n",
            "Iteration 24/30, Loss: 1.1017425060272217\n",
            "Iteration 25/30, Loss: 1.1017264127731323\n",
            "Iteration 26/30, Loss: 1.101716160774231\n",
            "Iteration 27/30, Loss: 1.1017093658447266\n",
            "Iteration 28/30, Loss: 1.1017050743103027\n",
            "Iteration 29/30, Loss: 1.101702332496643\n"
          ]
        }
      ]
    },
    {
      "cell_type": "code",
      "source": [
        "# Plot losses\n",
        "plt.plot(losses)"
      ],
      "metadata": {
        "colab": {
          "base_uri": "https://localhost:8080/",
          "height": 448
        },
        "id": "8MXvw36ynhnk",
        "outputId": "c3d240db-7365-471e-865d-3a817fd1defb"
      },
      "execution_count": 13,
      "outputs": [
        {
          "output_type": "execute_result",
          "data": {
            "text/plain": [
              "[<matplotlib.lines.Line2D at 0x7914eb4d8e20>]"
            ]
          },
          "metadata": {},
          "execution_count": 13
        },
        {
          "output_type": "display_data",
          "data": {
            "text/plain": [
              "<Figure size 640x480 with 1 Axes>"
            ],
            "image/png": "[encoded data removed]"
          },
          "metadata": {}
        }
      ]
    },
    {
      "cell_type": "code",
      "source": [
        "# Plot the graph\n",
        "predicted = model(inputs).detach().numpy()\n",
        "plt.scatter(X, Y, label='Original data')\n",
        "plt.plot(X, predicted, label='Fitted line')\n",
        "plt.legend()\n",
        "plt.show()"
      ],
      "metadata": {
        "colab": {
          "base_uri": "https://localhost:8080/",
          "height": 432
        },
        "id": "Tvse6ixWnuu8",
        "outputId": "518fe14b-3910-4de4-ee3f-25b45c9b4793"
      },
      "execution_count": 14,
      "outputs": [
        {
          "output_type": "display_data",
          "data": {
            "text/plain": [
              "<Figure size 640x480 with 1 Axes>"
            ],
            "image/png": "[encoded data removed]"
          },
          "metadata": {}
        }
      ]
    },
    {
      "cell_type": "code",
      "source": [
        "# Get model parameters\n",
        "w = model.weight.data.numpy() # Weight will be tuple beacause we can have more than one\n",
        "b = model.bias.data.numpy()\n",
        "print(w, b)"
      ],
      "metadata": {
        "colab": {
          "base_uri": "https://localhost:8080/"
        },
        "id": "xoK8aOSxoV2A",
        "outputId": "d96117fa-4bd7-4909-e7ca-ebd1ed1cf5cb"
      },
      "execution_count": 16,
      "outputs": [
        {
          "output_type": "stream",
          "name": "stdout",
          "text": [
            "[[0.51684237]] [-1.1905307]\n"
          ]
        }
      ]
    }
  ]
}