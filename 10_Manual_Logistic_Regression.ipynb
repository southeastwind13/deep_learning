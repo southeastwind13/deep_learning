{
  "nbformat": 4,
  "nbformat_minor": 0,
  "metadata": {
    "colab": {
      "provenance": [],
      "authorship_tag": "ABX9TyNA1DwvnoOhUnbwo6FRVjuN",
      "include_colab_link": true
    },
    "kernelspec": {
      "name": "python3",
      "display_name": "Python 3"
    },
    "language_info": {
      "name": "python"
    }
  },
  "cells": [
    {
      "cell_type": "markdown",
      "metadata": {
        "id": "view-in-github",
        "colab_type": "text"
      },
      "source": [
        "<a href=\"https://colab.research.google.com/github/southeastwind13/deep_learning/blob/main/10_Manual_Logistic_Regression.ipynb\" target=\"_parent\"><img src=\"https://colab.research.google.com/assets/colab-badge.svg\" alt=\"Open In Colab\"/></a>"
      ]
    },
    {
      "cell_type": "code",
      "execution_count": 1,
      "metadata": {
        "id": "N0V_57JAkGJE"
      },
      "outputs": [],
      "source": [
        "# Import Lib\n",
        "import numpy as np\n",
        "import copy\n",
        "import matplotlib.pyplot as plt"
      ]
    },
    {
      "cell_type": "code",
      "source": [
        "# Generate Logistics data\n",
        "def generate_logisticdata(n:int = 200, theta = np.array([[4], [-2]])):\n",
        "    np.random.seed(1)\n",
        "    X = np.random.rand(n, 2)\n",
        "    z = np.dot(X, theta)\n",
        "    prob = 1 / (1 + np.exp(-z))\n",
        "    y = np.random.binomial(1, prob.flatten())\n",
        "    return (X, y)"
      ],
      "metadata": {
        "id": "Gyh5O9oikMPx"
      },
      "execution_count": 7,
      "outputs": []
    },
    {
      "cell_type": "code",
      "source": [
        "X, y = generate_logisticdata()"
      ],
      "metadata": {
        "id": "NpJCGu6Kkbjd"
      },
      "execution_count": 8,
      "outputs": []
    },
    {
      "cell_type": "code",
      "source": [
        "# Split data\n",
        "from sklearn.model_selection import train_test_split\n",
        "X_train, X_test, y_train, y_test = train_test_split(X, y, test_size=0.2, random_state=0)"
      ],
      "metadata": {
        "id": "OGTlZcLSkd2s"
      },
      "execution_count": 9,
      "outputs": []
    },
    {
      "cell_type": "code",
      "source": [
        "# Reshape data to the correct dimension\n",
        "# X (Nx:Number of feature, m:Number of Samples)\n",
        "# Y (1, m)\n",
        "\n",
        "X_train = X_train.T\n",
        "y_train = y_train.reshape(1, y_train.shape[0])\n",
        "X_test = X_test.T\n",
        "y_test = y_test.reshape(1, y_test.shape[0])"
      ],
      "metadata": {
        "id": "AjAyAJ86kiF8"
      },
      "execution_count": 10,
      "outputs": []
    },
    {
      "cell_type": "code",
      "source": [
        "# Sigmoid function\n",
        "def sigmoid(x):\n",
        "    return 1 / (1 + np.exp(-x))"
      ],
      "metadata": {
        "id": "V7k6dQkMk0u3"
      },
      "execution_count": 11,
      "outputs": []
    },
    {
      "cell_type": "code",
      "source": [
        "# Initialize parameter function base on dimension\n",
        "def initials_parameters(dim):\n",
        "  w = np.zeros((dim, 1)) * 0.01\n",
        "  b = 0\n",
        "\n",
        "  return w, b"
      ],
      "metadata": {
        "id": "SX8ZunaCk4J_"
      },
      "execution_count": 12,
      "outputs": []
    },
    {
      "cell_type": "code",
      "source": [
        "def propagate(w, b, X, Y):\n",
        "\n",
        "  # -- Forward --\n",
        "\n",
        "  # Number of features\n",
        "  m = X.shape[1]\n",
        "\n",
        "  # Find the A = (w.T * x) + b\n",
        "  A = sigmoid(np.dot(w.T, X) + b)\n",
        "\n",
        "  # Find total cost function for all samples (Log Loss)\n",
        "  cost = (-1/m) * (np.dot(Y, np.log(A).T) + np.dot((1-Y), np.log(1-A).T))\n",
        "\n",
        "  # -- Backward --\n",
        "\n",
        "  dw = (1/m) * np.dot(X, (A-Y).T) # Gradient of cost with respect of w\n",
        "  db = (1/m) * np.sum(A-Y) # Gradient of cost with respect of b\n",
        "\n",
        "  cost = np.squeeze(np.array(cost))\n",
        "  grads = {\"dw\": dw, \"db\": db}\n",
        "\n",
        "  return grads, cost"
      ],
      "metadata": {
        "id": "yg1GxwxOk-d3"
      },
      "execution_count": 13,
      "outputs": []
    },
    {
      "cell_type": "code",
      "source": [
        "def optimize(w, b, X, Y, num_iterations, learning_rate, print_cost = False):\n",
        "\n",
        "  w = copy.deepcopy(w)\n",
        "  b = copy.deepcopy(b)\n",
        "\n",
        "  costs = []\n",
        "\n",
        "  for i in range(num_iterations):\n",
        "\n",
        "      # Propagate\n",
        "      grads, cost = propagate(w, b, X, Y)\n",
        "\n",
        "      # get gradient\n",
        "      dw = grads[\"dw\"]\n",
        "      db = grads[\"db\"]\n",
        "\n",
        "      # update parameters\n",
        "      w = w - learning_rate * dw  # need to broadcast\n",
        "      b = b - learning_rate * db\n",
        "\n",
        "      # Record the costs\n",
        "      if i % 100 == 0:\n",
        "        costs.append(cost)\n",
        "\n",
        "      # Print the cost every 100 training examples\n",
        "        if print_cost and i % 100 == 0:\n",
        "          print (\"Cost after iteration %i: %f\" % (i, cost))\n",
        "\n",
        "      params = {\"w\": w,\n",
        "                \"b\": b}\n",
        "\n",
        "      grads = {\"dw\": dw,\n",
        "              \"db\": db}\n",
        "\n",
        "  return params, grads, costs"
      ],
      "metadata": {
        "id": "mWk332pslwcn"
      },
      "execution_count": 14,
      "outputs": []
    },
    {
      "cell_type": "code",
      "source": [
        "def predict(w, b, X):\n",
        "\n",
        "    m = X.shape[1]\n",
        "    Y_prediction = np.zeros((1, m)) # Create temp memory space for y_prediction\n",
        "    w = w.reshape(X.shape[0], 1)\n",
        "    print(w)\n",
        "\n",
        "    A = sigmoid(np.dot(w.T, X) + b)\n",
        "\n",
        "    for i in range(A.shape[1]):\n",
        "\n",
        "        if A[0, i] > 0.5 :\n",
        "            Y_prediction[0,i] = 1\n",
        "        else:\n",
        "            Y_prediction[0,i] =  0\n",
        "\n",
        "    return Y_prediction"
      ],
      "metadata": {
        "id": "9ABSqb4bm7Xk"
      },
      "execution_count": 15,
      "outputs": []
    },
    {
      "cell_type": "code",
      "source": [
        "def model(X_train, Y_train, X_test, Y_test, num_iterations=2000, learning_rate=0.5, print_cost=False):\n",
        "\n",
        "  # 1. Initials parameters\n",
        "  w, b = initials_parameters(X_train.shape[0])\n",
        "\n",
        "  # 2. Optimize parameters\n",
        "  parameters, grads, costs = optimize(w, b, X_train, Y_train, num_iterations, learning_rate, print_cost)\n",
        "\n",
        "  # 3. Retrieve parameters w and b from dictionary \"parameters\"\n",
        "  w = parameters[\"w\"]\n",
        "  b = parameters[\"b\"]\n",
        "\n",
        "  # 4. Prediction\n",
        "  Y_prediction_test = predict(w, b, X_test)\n",
        "  Y_prediction_train = predict(w, b, X_train)\n",
        "\n",
        "  print(\"train accuracy: {} %\".format(100 - np.mean(np.abs(Y_prediction_train - Y_train)) * 100))\n",
        "  print(\"test accuracy: {} %\".format(100 - np.mean(np.abs(Y_prediction_test - Y_test)) * 100))\n",
        "\n",
        "  d = {\"costs\": costs,\n",
        "         \"Y_prediction_test\": Y_prediction_test,\n",
        "         \"Y_prediction_train\" : Y_prediction_train,\n",
        "         \"w\" : w,\n",
        "         \"b\" : b,\n",
        "         \"learning_rate\" : learning_rate,\n",
        "         \"num_iterations\": num_iterations}\n",
        "\n",
        "  return d"
      ],
      "metadata": {
        "id": "oRoz9ZTdm-3E"
      },
      "execution_count": 16,
      "outputs": []
    },
    {
      "cell_type": "code",
      "source": [
        "d = model(X_train, y_train, X_test, y_test, num_iterations = 5000, learning_rate = 0.01, print_cost = False)"
      ],
      "metadata": {
        "colab": {
          "base_uri": "https://localhost:8080/"
        },
        "id": "6XRV59xsoH6c",
        "outputId": "9cdb5d23-4941-4d82-857d-fbfeb0d07e36"
      },
      "execution_count": 17,
      "outputs": [
        {
          "output_type": "stream",
          "name": "stdout",
          "text": [
            "[[ 2.34625446]\n",
            " [-0.69253358]]\n",
            "[[ 2.34625446]\n",
            " [-0.69253358]]\n",
            "train accuracy: 73.75 %\n",
            "test accuracy: 60.0 %\n"
          ]
        }
      ]
    },
    {
      "cell_type": "code",
      "source": [
        "index = 7\n",
        "print(f\"y = {str(y_test[0, index])}, your predicted is a {d['Y_prediction_test'][0, index]}\")"
      ],
      "metadata": {
        "colab": {
          "base_uri": "https://localhost:8080/"
        },
        "id": "HlLuDqNnoL4B",
        "outputId": "2297ed1f-b8aa-4968-efe4-d0199836f8d4"
      },
      "execution_count": 18,
      "outputs": [
        {
          "output_type": "stream",
          "name": "stdout",
          "text": [
            "y = 1, your predicted is a 1.0\n"
          ]
        }
      ]
    }
  ]
}