{
  "nbformat": 4,
  "nbformat_minor": 0,
  "metadata": {
    "colab": {
      "provenance": [],
      "authorship_tag": "ABX9TyM2C2M5gVHcWMgNCViSho1I",
      "include_colab_link": true
    },
    "kernelspec": {
      "name": "python3",
      "display_name": "Python 3"
    },
    "language_info": {
      "name": "python"
    }
  },
  "cells": [
    {
      "cell_type": "markdown",
      "metadata": {
        "id": "view-in-github",
        "colab_type": "text"
      },
      "source": [
        "<a href=\"https://colab.research.google.com/github/southeastwind13/deep_learning/blob/main/4_Linear_Classification_(Logit).ipynb\" target=\"_parent\"><img src=\"https://colab.research.google.com/assets/colab-badge.svg\" alt=\"Open In Colab\"/></a>"
      ]
    },
    {
      "cell_type": "code",
      "execution_count": null,
      "metadata": {
        "id": "ZkwYa5R0Pfe1"
      },
      "outputs": [],
      "source": [
        "import torch\n",
        "import torch.nn as nn\n",
        "import pandas as pd\n",
        "import numpy as np\n",
        "import matplotlib.pyplot as plt"
      ]
    },
    {
      "cell_type": "code",
      "source": [
        "# Load data\n",
        "from sklearn.datasets import load_breast_cancer\n",
        "data = load_breast_cancer()"
      ],
      "metadata": {
        "id": "i05Q9XD3P1vK"
      },
      "execution_count": null,
      "outputs": []
    },
    {
      "cell_type": "code",
      "source": [
        "# Split train-test\n",
        "from sklearn.model_selection import train_test_split\n",
        "X_train, X_test, y_train, y_test = train_test_split(data.data, data.target, test_size=0.2, random_state=0)\n",
        "N, D = X_train.shape"
      ],
      "metadata": {
        "id": "NmbGg1qfRdm8"
      },
      "execution_count": null,
      "outputs": []
    },
    {
      "cell_type": "code",
      "source": [
        "# Scale the data\n",
        "from sklearn.preprocessing import StandardScaler\n",
        "scaler = StandardScaler()\n",
        "X_train = scaler.fit_transform(X_train)\n",
        "X_test = scaler.transform(X_test)"
      ],
      "metadata": {
        "id": "Oj7U2la-Rhtz"
      },
      "execution_count": null,
      "outputs": []
    },
    {
      "cell_type": "code",
      "source": [
        "# Data convertion\n",
        "X_train = torch.from_numpy(X_train.astype(np.float32))\n",
        "y_train = torch.from_numpy(y_train.astype(np.float32).reshape(-1, 1))\n",
        "X_test = torch.from_numpy(X_test.astype(np.float32))\n",
        "y_test = torch.from_numpy(y_test.astype(np.float32).reshape(-1, 1))"
      ],
      "metadata": {
        "id": "5a0xOdy9RjCb"
      },
      "execution_count": null,
      "outputs": []
    },
    {
      "cell_type": "code",
      "source": [
        "# Create model\n",
        "model = nn.Linear(D, 1)"
      ],
      "metadata": {
        "id": "_o5ftbW2Rk9L"
      },
      "execution_count": null,
      "outputs": []
    },
    {
      "cell_type": "code",
      "source": [
        "# Loss and Optimizer\n",
        "criterion = nn.BCEWithLogitsLoss()\n",
        "optimizer = torch.optim.Adam(model.parameters())"
      ],
      "metadata": {
        "id": "hCacnoewT9Av"
      },
      "execution_count": null,
      "outputs": []
    },
    {
      "cell_type": "code",
      "source": [
        "# Training\n",
        "\n",
        "n_epochs = 1000\n",
        "\n",
        "train_losses = []\n",
        "test_losses = []\n",
        "\n",
        "for epoch in range(n_epochs):\n",
        "\n",
        "    optimizer.zero_grad()\n",
        "\n",
        "    # Forward pass\n",
        "    y_pred = model(X_train)\n",
        "    train_loss = criterion(y_pred, y_train)\n",
        "\n",
        "    train_losses.append(train_loss.item())\n",
        "\n",
        "    # Backward pass\n",
        "    train_loss.backward()\n",
        "    optimizer.step()\n",
        "\n",
        "    # Test model\n",
        "    y_pred_test = model(X_test)\n",
        "    test_loss = criterion(y_pred_test, y_test)\n",
        "\n",
        "    test_losses.append(test_loss.item())\n",
        "\n",
        "    if (epoch+1) % 50 == 0:\n",
        "        print(f'Epoch: {epoch+1}/{n_epochs}, Train Loss: {train_loss.item():.4f}, Test Loss: {test_loss.item():.4f}')"
      ],
      "metadata": {
        "colab": {
          "base_uri": "https://localhost:8080/"
        },
        "id": "bFQIfEh0UET_",
        "outputId": "78e10228-0961-4324-faba-7b969bb1732d"
      },
      "execution_count": null,
      "outputs": [
        {
          "output_type": "stream",
          "name": "stdout",
          "text": [
            "Epoch: 50/1000, Train Loss: 0.3860, Test Loss: 0.3675\n",
            "Epoch: 100/1000, Train Loss: 0.2965, Test Loss: 0.2889\n",
            "Epoch: 150/1000, Train Loss: 0.2429, Test Loss: 0.2438\n",
            "Epoch: 200/1000, Train Loss: 0.2077, Test Loss: 0.2143\n",
            "Epoch: 250/1000, Train Loss: 0.1830, Test Loss: 0.1936\n",
            "Epoch: 300/1000, Train Loss: 0.1650, Test Loss: 0.1781\n",
            "Epoch: 350/1000, Train Loss: 0.1512, Test Loss: 0.1661\n",
            "Epoch: 400/1000, Train Loss: 0.1403, Test Loss: 0.1566\n",
            "Epoch: 450/1000, Train Loss: 0.1315, Test Loss: 0.1487\n",
            "Epoch: 500/1000, Train Loss: 0.1243, Test Loss: 0.1422\n",
            "Epoch: 550/1000, Train Loss: 0.1181, Test Loss: 0.1366\n",
            "Epoch: 600/1000, Train Loss: 0.1129, Test Loss: 0.1317\n",
            "Epoch: 650/1000, Train Loss: 0.1084, Test Loss: 0.1276\n",
            "Epoch: 700/1000, Train Loss: 0.1044, Test Loss: 0.1239\n",
            "Epoch: 750/1000, Train Loss: 0.1009, Test Loss: 0.1206\n",
            "Epoch: 800/1000, Train Loss: 0.0978, Test Loss: 0.1177\n",
            "Epoch: 850/1000, Train Loss: 0.0950, Test Loss: 0.1151\n",
            "Epoch: 900/1000, Train Loss: 0.0925, Test Loss: 0.1127\n",
            "Epoch: 950/1000, Train Loss: 0.0902, Test Loss: 0.1106\n",
            "Epoch: 1000/1000, Train Loss: 0.0881, Test Loss: 0.1086\n"
          ]
        }
      ]
    },
    {
      "cell_type": "code",
      "source": [
        "# Plot the train and test loss per iteration\n",
        "plt.plot(train_losses, label='Train Loss')\n",
        "plt.plot(test_losses, label='Test Loss')\n",
        "plt.legend()\n",
        "plt.show()"
      ],
      "metadata": {
        "colab": {
          "base_uri": "https://localhost:8080/",
          "height": 430
        },
        "id": "p_dwF1xkUGvt",
        "outputId": "9d8ce932-de76-4e30-c80b-7cc79368f9f1"
      },
      "execution_count": null,
      "outputs": [
        {
          "output_type": "display_data",
          "data": {
            "text/plain": [
              "<Figure size 640x480 with 1 Axes>"
            ],
            "image/png": "[encoded data removed]"
          },
          "metadata": {}
        }
      ]
    },
    {
      "cell_type": "code",
      "source": [
        "# Evaluate model by accuracy\n",
        "with torch.no_grad():\n",
        "  p_train = model(X_train)\n",
        "  p_train = (p_train.numpy() > 0)\n",
        "  acc_train = np.mean(p_train == y_train.numpy())\n",
        "\n",
        "  p_test = model(X_test)\n",
        "  p_test = (p_test.numpy() > 0)\n",
        "  acc_test = np.mean(p_test == y_test.numpy())\n",
        "\n",
        "  print(f'Train accuracy: {acc_train:.4f}')\n",
        "  print(f'Test accuracy: {acc_test:.4f}')"
      ],
      "metadata": {
        "colab": {
          "base_uri": "https://localhost:8080/"
        },
        "id": "PevTu0NQUJjl",
        "outputId": "d46338b6-8bfe-47a5-dcc0-838a4ede8e90"
      },
      "execution_count": null,
      "outputs": [
        {
          "output_type": "stream",
          "name": "stdout",
          "text": [
            "Train accuracy: 0.9824\n",
            "Test accuracy: 0.9649\n"
          ]
        }
      ]
    },
    {
      "cell_type": "code",
      "source": [],
      "metadata": {
        "id": "XaJIK8QMULm9"
      },
      "execution_count": null,
      "outputs": []
    }
  ]
}