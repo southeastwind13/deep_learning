{
  "nbformat": 4,
  "nbformat_minor": 0,
  "metadata": {
    "colab": {
      "provenance": [],
      "authorship_tag": "ABX9TyMXDr+UNjcZmZPNuZrTe87G",
      "include_colab_link": true
    },
    "kernelspec": {
      "name": "python3",
      "display_name": "Python 3"
    },
    "language_info": {
      "name": "python"
    }
  },
  "cells": [
    {
      "cell_type": "markdown",
      "metadata": {
        "id": "view-in-github",
        "colab_type": "text"
      },
      "source": [
        "<a href=\"https://colab.research.google.com/github/southeastwind13/deep_learning/blob/main/1_Linear_Regression.ipynb\" target=\"_parent\"><img src=\"https://colab.research.google.com/assets/colab-badge.svg\" alt=\"Open In Colab\"/></a>"
      ]
    },
    {
      "cell_type": "code",
      "execution_count": 1,
      "metadata": {
        "id": "_mupyCX7YAt4"
      },
      "outputs": [],
      "source": [
        "import torch\n",
        "import torch.nn as nn\n",
        "import numpy as np\n",
        "import matplotlib.pyplot as plt"
      ]
    },
    {
      "cell_type": "code",
      "source": [
        "# Genearate mock data\n",
        "N = 20\n",
        "X = np.random.random(N)*10 -5\n",
        "Y = 0.5 * X - 1 + np.random.random(N)"
      ],
      "metadata": {
        "id": "rLDMVZqmscaj"
      },
      "execution_count": 2,
      "outputs": []
    },
    {
      "cell_type": "code",
      "source": [
        "plt.scatter(X, Y)"
      ],
      "metadata": {
        "colab": {
          "base_uri": "https://localhost:8080/",
          "height": 448
        },
        "id": "UzACUFgDsndV",
        "outputId": "7b78f773-4dfa-4abc-8669-6f4f9337fd21"
      },
      "execution_count": 3,
      "outputs": [
        {
          "output_type": "execute_result",
          "data": {
            "text/plain": [
              "<matplotlib.collections.PathCollection at 0x7b40b5474820>"
            ]
          },
          "metadata": {},
          "execution_count": 3
        },
        {
          "output_type": "display_data",
          "data": {
            "text/plain": [
              "<Figure size 640x480 with 1 Axes>"
            ],
            "image/png": "[encoded data removed]"
          },
          "metadata": {}
        }
      ]
    },
    {
      "cell_type": "code",
      "source": [
        "def convert_numpy_to_tensor(data:np.ndarray, number_samples:int, number_features:int):\n",
        "  return torch.from_numpy(data.reshape(number_samples, number_features).astype(np.float32))"
      ],
      "metadata": {
        "id": "siXsY245sqBE"
      },
      "execution_count": 4,
      "outputs": []
    },
    {
      "cell_type": "code",
      "source": [
        "# Covert data from numpy to tensor\n",
        "inputs = convert_numpy_to_tensor(X, 20 ,1)\n",
        "targets = convert_numpy_to_tensor(Y, 20, 1)"
      ],
      "metadata": {
        "id": "EgZnAytCt9LE"
      },
      "execution_count": 8,
      "outputs": []
    },
    {
      "cell_type": "code",
      "source": [
        "# Create model\n",
        "model = nn.Linear(1, 1)"
      ],
      "metadata": {
        "id": "hnSnC23RtDoA"
      },
      "execution_count": 5,
      "outputs": []
    },
    {
      "cell_type": "code",
      "source": [
        "# Loss and Optimizer\n",
        "criterion = nn.MSELoss()\n",
        "optimizer = torch.optim.SGD(model.parameters(), lr=0.1)"
      ],
      "metadata": {
        "id": "VMgyikVqttxV"
      },
      "execution_count": 6,
      "outputs": []
    },
    {
      "cell_type": "code",
      "source": [
        "# Training\n",
        "\n",
        "n_epochs = 30\n",
        "losses = []\n",
        "\n",
        "for iteration in range(n_epochs):\n",
        "\n",
        "  # Clear accumurate gradients\n",
        "  optimizer.zero_grad()\n",
        "\n",
        "  # Forward\n",
        "  outputs = model(inputs)\n",
        "  loss = criterion(outputs, targets)\n",
        "\n",
        "  # Keep tracking the loss\n",
        "  losses.append(loss.item())\n",
        "\n",
        "  # Backward\n",
        "  loss.backward()\n",
        "  optimizer.step()\n",
        "\n",
        "  print(f'Epochs {iteration+1}/{n_epochs}, Loss: {loss.item():4f}')\n",
        "\n"
      ],
      "metadata": {
        "colab": {
          "base_uri": "https://localhost:8080/"
        },
        "id": "1lMPTli6t55z",
        "outputId": "0d658a60-fd94-4838-8421-d86c93cb91d8"
      },
      "execution_count": 10,
      "outputs": [
        {
          "output_type": "stream",
          "name": "stdout",
          "text": [
            "Epochs 1/30, Loss: 1.746988\n",
            "Epochs 2/30, Loss: 1.247840\n",
            "Epochs 3/30, Loss: 0.898730\n",
            "Epochs 4/30, Loss: 0.654460\n",
            "Epochs 5/30, Loss: 0.483465\n",
            "Epochs 6/30, Loss: 0.363694\n",
            "Epochs 7/30, Loss: 0.279745\n",
            "Epochs 8/30, Loss: 0.220855\n",
            "Epochs 9/30, Loss: 0.179504\n",
            "Epochs 10/30, Loss: 0.150433\n",
            "Epochs 11/30, Loss: 0.129967\n",
            "Epochs 12/30, Loss: 0.115535\n",
            "Epochs 13/30, Loss: 0.105338\n",
            "Epochs 14/30, Loss: 0.098117\n",
            "Epochs 15/30, Loss: 0.092989\n",
            "Epochs 16/30, Loss: 0.089336\n",
            "Epochs 17/30, Loss: 0.086725\n",
            "Epochs 18/30, Loss: 0.084849\n",
            "Epochs 19/30, Loss: 0.083497\n",
            "Epochs 20/30, Loss: 0.082516\n",
            "Epochs 21/30, Loss: 0.081800\n",
            "Epochs 22/30, Loss: 0.081274\n",
            "Epochs 23/30, Loss: 0.080885\n",
            "Epochs 24/30, Loss: 0.080594\n",
            "Epochs 25/30, Loss: 0.080376\n",
            "Epochs 26/30, Loss: 0.080211\n",
            "Epochs 27/30, Loss: 0.080084\n",
            "Epochs 28/30, Loss: 0.079986\n",
            "Epochs 29/30, Loss: 0.079910\n",
            "Epochs 30/30, Loss: 0.079851\n"
          ]
        }
      ]
    },
    {
      "cell_type": "code",
      "source": [
        "plt.plot(losses)"
      ],
      "metadata": {
        "colab": {
          "base_uri": "https://localhost:8080/",
          "height": 448
        },
        "id": "zIkW4L6lvD5L",
        "outputId": "4f61d2e5-af47-4dff-b88d-e43ec4c6066d"
      },
      "execution_count": 11,
      "outputs": [
        {
          "output_type": "execute_result",
          "data": {
            "text/plain": [
              "[<matplotlib.lines.Line2D at 0x7b40b1307190>]"
            ]
          },
          "metadata": {},
          "execution_count": 11
        },
        {
          "output_type": "display_data",
          "data": {
            "text/plain": [
              "<Figure size 640x480 with 1 Axes>"
            ],
            "image/png": "[encoded data removed]"
          },
          "metadata": {}
        }
      ]
    },
    {
      "cell_type": "code",
      "source": [
        "# Plot the graph\n",
        "predicted = model(inputs).detach().numpy()\n",
        "plt.plot(X, Y, 'ro', label='Original data')\n",
        "plt.plot(X, predicted, label='Fitted line')\n",
        "plt.legend()\n",
        "plt.show()"
      ],
      "metadata": {
        "colab": {
          "base_uri": "https://localhost:8080/",
          "height": 431
        },
        "id": "4JSTM9IivMFs",
        "outputId": "ab912939-5756-4a32-ae45-afb2264bfbd7"
      },
      "execution_count": 12,
      "outputs": [
        {
          "output_type": "display_data",
          "data": {
            "text/plain": [
              "<Figure size 640x480 with 1 Axes>"
            ],
            "image/png": "[encoded data removed]"
          },
          "metadata": {}
        }
      ]
    },
    {
      "cell_type": "code",
      "source": [
        "# Compute data without detach\n",
        "with torch.no_grad():\n",
        "  outputs = model(inputs).numpy()\n",
        "outputs"
      ],
      "metadata": {
        "colab": {
          "base_uri": "https://localhost:8080/"
        },
        "id": "x9jyISmxwBcG",
        "outputId": "58c56bc5-9240-4734-bfc2-2303a0712471"
      },
      "execution_count": 14,
      "outputs": [
        {
          "output_type": "execute_result",
          "data": {
            "text/plain": [
              "array([[-1.1205974 ],\n",
              "       [-2.7174754 ],\n",
              "       [ 0.10998678],\n",
              "       [-1.1317275 ],\n",
              "       [-2.5017211 ],\n",
              "       [-2.2848678 ],\n",
              "       [-1.9941093 ],\n",
              "       [ 1.8155711 ],\n",
              "       [-2.000874  ],\n",
              "       [-2.529345  ],\n",
              "       [ 1.6627145 ],\n",
              "       [-1.437089  ],\n",
              "       [ 0.48608762],\n",
              "       [-1.4167695 ],\n",
              "       [-2.5725484 ],\n",
              "       [-2.521825  ],\n",
              "       [ 0.5271943 ],\n",
              "       [-1.6434673 ],\n",
              "       [ 0.46136934],\n",
              "       [ 0.00682518]], dtype=float32)"
            ]
          },
          "metadata": {},
          "execution_count": 14
        }
      ]
    },
    {
      "cell_type": "code",
      "source": [
        "# Get the model parameters\n",
        "w = model.weight.data.numpy()\n",
        "b = model.bias.data.numpy()\n",
        "print(w, b)"
      ],
      "metadata": {
        "colab": {
          "base_uri": "https://localhost:8080/"
        },
        "id": "HquZmhquwS0_",
        "outputId": "d2f74c96-be29-4cda-ff0c-e05b88c8339a"
      },
      "execution_count": 18,
      "outputs": [
        {
          "output_type": "stream",
          "name": "stdout",
          "text": [
            "[[0.50790286]] [-0.41314578]\n"
          ]
        }
      ]
    },
    {
      "cell_type": "code",
      "source": [
        "print(type(w))"
      ],
      "metadata": {
        "colab": {
          "base_uri": "https://localhost:8080/"
        },
        "id": "HTWU76rswXLS",
        "outputId": "e0eac755-505f-4648-c8a5-01330824a219"
      },
      "execution_count": 19,
      "outputs": [
        {
          "output_type": "stream",
          "name": "stdout",
          "text": [
            "<class 'numpy.ndarray'>\n"
          ]
        }
      ]
    },
    {
      "cell_type": "code",
      "source": [
        "print(type(b))"
      ],
      "metadata": {
        "colab": {
          "base_uri": "https://localhost:8080/"
        },
        "id": "l_apY10Tw-HH",
        "outputId": "69bd073f-7d78-45a3-e8fa-8d5e3c799f1a"
      },
      "execution_count": 20,
      "outputs": [
        {
          "output_type": "stream",
          "name": "stdout",
          "text": [
            "<class 'numpy.ndarray'>\n"
          ]
        }
      ]
    },
    {
      "cell_type": "code",
      "source": [],
      "metadata": {
        "id": "_WJUKwSrxACX"
      },
      "execution_count": null,
      "outputs": []
    }
  ]
}